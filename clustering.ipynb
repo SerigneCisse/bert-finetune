{
 "cells": [
  {
   "cell_type": "code",
   "execution_count": null,
   "metadata": {},
   "outputs": [],
   "source": [
    "# GPU selection\n",
    "import os\n",
    "os.environ[\"CUDA_DEVICE_ORDER\"] = \"PCI_BUS_ID\"\n",
    "os.environ[\"CUDA_VISIBLE_DEVICES\"] = \"2\""
   ]
  },
  {
   "cell_type": "code",
   "execution_count": 2,
   "metadata": {},
   "outputs": [],
   "source": [
    "import time\n",
    "import pickle\n",
    "\n",
    "import numpy as np\n",
    "import pandas as pd\n",
    "\n",
    "import cudf"
   ]
  },
  {
   "cell_type": "code",
   "execution_count": 3,
   "metadata": {},
   "outputs": [],
   "source": [
    "results_flat = np.asarray(pickle.load(open(\"./cache2/features.pickle\", \"rb\")))"
   ]
  },
  {
   "cell_type": "code",
   "execution_count": 4,
   "metadata": {},
   "outputs": [],
   "source": [
    "def np2cudf(array):\n",
    "    # convert numpy array to cuDF dataframe\n",
    "    df = pd.DataFrame({'fea%d'%i:array[:,i] for i in range(array.shape[1])})\n",
    "    df.info()\n",
    "    pdf = cudf.DataFrame()\n",
    "    for c,column in enumerate(df):\n",
    "        pdf[str(c)] = df[column]\n",
    "    return pdf"
   ]
  },
  {
   "cell_type": "code",
   "execution_count": 5,
   "metadata": {},
   "outputs": [
    {
     "name": "stdout",
     "output_type": "stream",
     "text": [
      "<class 'pandas.core.frame.DataFrame'>\n",
      "RangeIndex: 120000 entries, 0 to 119999\n",
      "Columns: 1024 entries, fea0 to fea1023\n",
      "dtypes: float32(1024)\n",
      "memory usage: 468.8 MB\n"
     ]
    }
   ],
   "source": [
    "gpu_df = np2cudf(results_flat)"
   ]
  },
  {
   "cell_type": "code",
   "execution_count": 6,
   "metadata": {},
   "outputs": [],
   "source": [
    "from cuml.cluster import KMeans"
   ]
  },
  {
   "cell_type": "code",
   "execution_count": 7,
   "metadata": {},
   "outputs": [
    {
     "name": "stdout",
     "output_type": "stream",
     "text": [
      "Time taken: 5.08\n"
     ]
    }
   ],
   "source": [
    "start = time.time()\n",
    "\n",
    "kmeans_float = KMeans(n_clusters=4, n_gpu=1)\n",
    "kmeans_float.fit(gpu_df)\n",
    "\n",
    "print(\"Time taken:\", round(time.time()-start, 2))"
   ]
  },
  {
   "cell_type": "code",
   "execution_count": 8,
   "metadata": {},
   "outputs": [],
   "source": [
    "from sklearn.cluster import KMeans"
   ]
  },
  {
   "cell_type": "code",
   "execution_count": 9,
   "metadata": {},
   "outputs": [
    {
     "name": "stdout",
     "output_type": "stream",
     "text": [
      "Time taken: 76.25\n"
     ]
    }
   ],
   "source": [
    "start = time.time()\n",
    "\n",
    "clf = KMeans(n_clusters=4)\n",
    "clf.fit(results_flat)\n",
    "\n",
    "print(\"Time taken:\", round(time.time()-start, 2))"
   ]
  },
  {
   "cell_type": "code",
   "execution_count": null,
   "metadata": {},
   "outputs": [],
   "source": []
  }
 ],
 "metadata": {
  "kernelspec": {
   "display_name": "Python 3",
   "language": "python",
   "name": "python3"
  },
  "language_info": {
   "codemirror_mode": {
    "name": "ipython",
    "version": 3
   },
   "file_extension": ".py",
   "mimetype": "text/x-python",
   "name": "python",
   "nbconvert_exporter": "python",
   "pygments_lexer": "ipython3",
   "version": "3.6.7"
  }
 },
 "nbformat": 4,
 "nbformat_minor": 4
}
