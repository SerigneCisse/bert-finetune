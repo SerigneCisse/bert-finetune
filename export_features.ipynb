{
 "cells": [
  {
   "cell_type": "markdown",
   "metadata": {},
   "source": [
    "# BERT Clustering Test"
   ]
  },
  {
   "cell_type": "code",
   "execution_count": 1,
   "metadata": {},
   "outputs": [],
   "source": [
    "# GPU selection\n",
    "import os\n",
    "os.environ[\"CUDA_DEVICE_ORDER\"] = \"PCI_BUS_ID\"\n",
    "os.environ[\"CUDA_VISIBLE_DEVICES\"] = \"1\""
   ]
  },
  {
   "cell_type": "code",
   "execution_count": 2,
   "metadata": {},
   "outputs": [],
   "source": [
    "import os\n",
    "from pathlib import Path\n",
    "import pickle\n",
    "    \n",
    "import numpy as np\n",
    "import pandas as pd\n",
    "from sklearn.utils import shuffle\n",
    "from sklearn.model_selection import train_test_split\n",
    "\n",
    "os.environ[\"TF_CPP_MIN_LOG_LEVEL\"] = \"3\"\n",
    "import tensorflow.compat.v1 as tf\n",
    "tf.logging.set_verbosity(tf.logging.ERROR)\n",
    "from tensorflow.compat.v1.keras import layers\n",
    "import horovod.tensorflow as hvd\n",
    "import horovod.tensorflow.keras as hvd_keras\n",
    "\n",
    "import utils\n",
    "import bert_utils\n",
    "import bert_optimizer"
   ]
  },
  {
   "cell_type": "code",
   "execution_count": 3,
   "metadata": {},
   "outputs": [],
   "source": [
    "BERTLARGE = True\n",
    "USE_AMP = True\n",
    "USE_XLA = True\n",
    "MAX_SEQ_LEN = 128"
   ]
  },
  {
   "cell_type": "code",
   "execution_count": 4,
   "metadata": {},
   "outputs": [],
   "source": [
    "if BERTLARGE:\n",
    "    BERT_PATH = \"https://tfhub.dev/google/bert_uncased_L-24_H-1024_A-16/1\"\n",
    "    H_SIZE = 1024\n",
    "else:\n",
    "    BERT_PATH = \"https://tfhub.dev/google/bert_uncased_L-12_H-768_A-12/1\"\n",
    "    H_SIZE = 768"
   ]
  },
  {
   "cell_type": "markdown",
   "metadata": {},
   "source": [
    "Create TensorFlow session"
   ]
  },
  {
   "cell_type": "code",
   "execution_count": 5,
   "metadata": {},
   "outputs": [],
   "source": [
    "config = tf.ConfigProto()\n",
    "config.gpu_options.allow_growth = True\n",
    "if USE_XLA:\n",
    "    opt_level = tf.OptimizerOptions.ON_1\n",
    "    tf.enable_resource_variables()\n",
    "else:\n",
    "    opt_level = tf.OptimizerOptions.OFF\n",
    "config.graph_options.optimizer_options.global_jit_level = opt_level\n",
    "config.graph_options.rewrite_options.auto_mixed_precision = USE_AMP\n",
    "sess = tf.Session(config=config)\n",
    "tf.keras.backend.set_session(sess)"
   ]
  },
  {
   "cell_type": "markdown",
   "metadata": {},
   "source": [
    "Create Tokenizer"
   ]
  },
  {
   "cell_type": "code",
   "execution_count": 6,
   "metadata": {},
   "outputs": [],
   "source": [
    "tokenizer = bert_utils.create_tokenizer_from_hub_module(BERT_PATH, sess)"
   ]
  },
  {
   "cell_type": "markdown",
   "metadata": {},
   "source": [
    "Load dataset"
   ]
  },
  {
   "cell_type": "code",
   "execution_count": 7,
   "metadata": {},
   "outputs": [
    {
     "name": "stdout",
     "output_type": "stream",
     "text": [
      "Loaded training set from: /home/jovyan/.keras/datasets/ag_news\n",
      "Examples: 120000 Classes: 4\n"
     ]
    }
   ],
   "source": [
    "train_text, train_label, num_classes = utils.load_ag_news_dataset(max_seq_len=MAX_SEQ_LEN,\n",
    "                                                                  test=False)"
   ]
  },
  {
   "cell_type": "code",
   "execution_count": 8,
   "metadata": {},
   "outputs": [],
   "source": [
    "train_feat_cache = \"./cache2/train_feat.pickle\"\n",
    "train_feat = Path(train_feat_cache)\n",
    "\n",
    "if train_feat.is_file():\n",
    "    feat = pickle.load(open(train_feat_cache, \"rb\"))\n",
    "else:\n",
    "    os.makedirs(\"./cache2/\", exist_ok=True)\n",
    "    train_label = np.asarray(train_label)\n",
    "    train_examples = bert_utils.convert_text_to_examples(train_text, train_label)\n",
    "    feat = bert_utils.convert_examples_to_features(tokenizer,\n",
    "                                                   train_examples,\n",
    "                                                   max_seq_length=MAX_SEQ_LEN,\n",
    "                                                   verbose=1)\n",
    "    pickle.dump(feat, open(train_feat_cache, \"wb\"))\n",
    "\n",
    "(train_input_ids, train_input_masks, train_segment_ids, train_labels) = feat\n",
    "\n",
    "train_input_ids, train_input_masks, train_segment_ids, train_labels = shuffle(train_input_ids,\n",
    "                                                                              train_input_masks,\n",
    "                                                                              train_segment_ids,\n",
    "                                                                              train_labels)"
   ]
  },
  {
   "cell_type": "code",
   "execution_count": 9,
   "metadata": {},
   "outputs": [],
   "source": [
    "test_feat_cache = \"./cache2/test_feat.pickle\"\n",
    "test_feat = Path(test_feat_cache)\n",
    "\n",
    "if test_feat.is_file():\n",
    "    feat = pickle.load(open(test_feat_cache, \"rb\"))\n",
    "else:\n",
    "    os.makedirs(\"./cache2/\", exist_ok=True)\n",
    "    examples, labels, num_classes = utils.load_ag_news_dataset(max_seq_len=MAX_SEQ_LEN,\n",
    "                                                               test=True)\n",
    "    labels = np.asarray(labels)\n",
    "    test_examples = bert_utils.convert_text_to_examples(examples, labels)\n",
    "    feat = bert_utils.convert_examples_to_features(tokenizer,\n",
    "                                                   test_examples,\n",
    "                                                   max_seq_length=MAX_SEQ_LEN,\n",
    "                                                   verbose=1)\n",
    "    pickle.dump(feat, open(test_feat_cache, \"wb\"))\n",
    "\n",
    "(test_input_ids, test_input_masks, test_segment_ids, test_labels) = feat\n",
    "\n",
    "test_input_ids, test_input_masks, test_segment_ids, test_labels = shuffle(test_input_ids,\n",
    "                                                                          test_input_masks,\n",
    "                                                                          test_segment_ids,\n",
    "                                                                          test_labels)\n",
    "\n",
    "test_set = ([test_input_ids, test_input_masks, test_segment_ids], test_labels)"
   ]
  },
  {
   "cell_type": "markdown",
   "metadata": {},
   "source": [
    "Create the model"
   ]
  },
  {
   "cell_type": "code",
   "execution_count": 19,
   "metadata": {},
   "outputs": [],
   "source": [
    "if USE_AMP:\n",
    "    tf.keras.mixed_precision.experimental.set_policy('infer_float32_vars')\n",
    "\n",
    "in_id = layers.Input(shape=(MAX_SEQ_LEN,), name=\"input_ids\")\n",
    "in_mask = layers.Input(shape=(MAX_SEQ_LEN,), name=\"input_masks\")\n",
    "in_segment = layers.Input(shape=(MAX_SEQ_LEN,), name=\"segment_ids\")\n",
    "\n",
    "in_bert = [in_id, in_mask, in_segment]\n",
    "\n",
    "l_bert = bert_utils.BERT(fine_tune_layers=-1,\n",
    "                         bert_path=BERT_PATH,\n",
    "                         return_sequence=True,\n",
    "                         output_size=H_SIZE,\n",
    "                         debug=False)(in_bert)\n",
    "x = layers.AveragePooling1D()(l_bert)\n",
    "\n",
    "model = tf.keras.models.Model(inputs=in_bert, outputs=x)"
   ]
  },
  {
   "cell_type": "code",
   "execution_count": 20,
   "metadata": {},
   "outputs": [],
   "source": [
    "opt = tf.keras.optimizers.Adam(lr=1e-5, decay=0.0)\n",
    "if USE_AMP:\n",
    "    opt = tf.keras.mixed_precision.experimental.LossScaleOptimizer(opt, \"dynamic\")"
   ]
  },
  {
   "cell_type": "code",
   "execution_count": 21,
   "metadata": {},
   "outputs": [],
   "source": [
    "model.compile(loss=\"sparse_categorical_crossentropy\",\n",
    "              optimizer=opt,\n",
    "              metrics=[\"accuracy\"])"
   ]
  },
  {
   "cell_type": "code",
   "execution_count": 22,
   "metadata": {},
   "outputs": [
    {
     "name": "stdout",
     "output_type": "stream",
     "text": [
      "Model: \"model_1\"\n",
      "__________________________________________________________________________________________________\n",
      "Layer (type)                    Output Shape         Param #     Connected to                     \n",
      "==================================================================================================\n",
      "input_ids (InputLayer)          [(None, 128)]        0                                            \n",
      "__________________________________________________________________________________________________\n",
      "input_masks (InputLayer)        [(None, 128)]        0                                            \n",
      "__________________________________________________________________________________________________\n",
      "segment_ids (InputLayer)        [(None, 128)]        0                                            \n",
      "__________________________________________________________________________________________________\n",
      "bert_1 (BERT)                   (None, None, 1024)   336224058   input_ids[0][0]                  \n",
      "                                                                 input_masks[0][0]                \n",
      "                                                                 segment_ids[0][0]                \n",
      "__________________________________________________________________________________________________\n",
      "max_pooling1d (MaxPooling1D)    (None, None, 1024)   0           bert_1[0][0]                     \n",
      "==================================================================================================\n",
      "Total params: 336,224,058\n",
      "Trainable params: 334,092,288\n",
      "Non-trainable params: 2,131,770\n",
      "__________________________________________________________________________________________________\n"
     ]
    }
   ],
   "source": [
    "model.summary()"
   ]
  },
  {
   "cell_type": "code",
   "execution_count": 14,
   "metadata": {},
   "outputs": [],
   "source": [
    "sess.run(tf.local_variables_initializer())\n",
    "sess.run(tf.global_variables_initializer())\n",
    "sess.run(tf.tables_initializer())\n",
    "tf.keras.backend.set_session(sess)"
   ]
  },
  {
   "cell_type": "code",
   "execution_count": 16,
   "metadata": {},
   "outputs": [
    {
     "name": "stdout",
     "output_type": "stream",
     "text": [
      "120000/120000 [==============================] - 224s 2ms/sample\n"
     ]
    }
   ],
   "source": [
    "results = model.predict([train_input_ids, train_input_masks, train_segment_ids],\n",
    "                        verbose=1, batch_size=512)"
   ]
  },
  {
   "cell_type": "code",
   "execution_count": 17,
   "metadata": {},
   "outputs": [],
   "source": [
    "results_flat = []\n",
    "\n",
    "for result in results:\n",
    "    results_flat.append(result.flatten())"
   ]
  },
  {
   "cell_type": "code",
   "execution_count": 18,
   "metadata": {},
   "outputs": [],
   "source": [
    "pickle.dump(results_flat, open(\"./cache2/features.pickle\", \"wb\"))"
   ]
  },
  {
   "cell_type": "code",
   "execution_count": null,
   "metadata": {},
   "outputs": [],
   "source": []
  },
  {
   "cell_type": "code",
   "execution_count": null,
   "metadata": {},
   "outputs": [],
   "source": []
  }
 ],
 "metadata": {
  "kernelspec": {
   "display_name": "Python 3",
   "language": "python",
   "name": "python3"
  },
  "language_info": {
   "codemirror_mode": {
    "name": "ipython",
    "version": 3
   },
   "file_extension": ".py",
   "mimetype": "text/x-python",
   "name": "python",
   "nbconvert_exporter": "python",
   "pygments_lexer": "ipython3",
   "version": "3.6.7"
  }
 },
 "nbformat": 4,
 "nbformat_minor": 4
}
