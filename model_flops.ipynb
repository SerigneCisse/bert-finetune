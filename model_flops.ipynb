{
 "cells": [
  {
   "cell_type": "markdown",
   "metadata": {},
   "source": [
    "# Estimate BERT model FLOPS\n",
    "\n",
    "Use the TensorFlow profiler to estimate the number of FLOPS required for one example in one training step for BERT.\n",
    "\n",
    "Results:\n",
    "\n",
    "* `BERTBASE` (110M): 263.001 GFLOPS\n",
    "* `BERTLARGE` (330M): 933.249 GFLOPS"
   ]
  },
  {
   "cell_type": "code",
   "execution_count": 1,
   "metadata": {},
   "outputs": [],
   "source": [
    "import tensorflow.compat.v1 as tf\n",
    "import tensorflow_hub as hub"
   ]
  },
  {
   "cell_type": "code",
   "execution_count": 2,
   "metadata": {},
   "outputs": [],
   "source": [
    "# set up TensorFlow session\n",
    "\n",
    "config = tf.ConfigProto()\n",
    "# allow us to instrument the GPU VRAM usage\n",
    "config.gpu_options.allow_growth = True\n",
    "sess = tf.Session(config=config)"
   ]
  },
  {
   "cell_type": "code",
   "execution_count": 3,
   "metadata": {},
   "outputs": [],
   "source": [
    "# key parameters\n",
    "\n",
    "MAX_SEQ_LEN = 512\n",
    "BERTLARGE = False\n",
    "\n",
    "if BERTLARGE:\n",
    "    BERT_PATH = \"https://tfhub.dev/google/bert_uncased_L-24_H-1024_A-16/1\"\n",
    "    H_SIZE = 1024\n",
    "else:\n",
    "    BERT_PATH = \"https://tfhub.dev/google/bert_uncased_L-12_H-768_A-12/1\"\n",
    "    H_SIZE = 768"
   ]
  },
  {
   "cell_type": "code",
   "execution_count": 4,
   "metadata": {},
   "outputs": [],
   "source": [
    "# create synthetic data\n",
    "\n",
    "bert_inputs = dict(input_ids=tf.ones(shape=(1,MAX_SEQ_LEN), dtype=tf.int32, name=\"input_tokens\"),\n",
    "                   input_mask=tf.ones(shape=(1,MAX_SEQ_LEN), dtype=tf.int32, name=\"input_mask\"),\n",
    "                   segment_ids=tf.ones(shape=(1,MAX_SEQ_LEN), dtype=tf.int32, name=\"input_padding\"))\n",
    "\n",
    "fake_labels = tf.ones(shape=(1,1), dtype=tf.int32, name=\"fake_labels\")"
   ]
  },
  {
   "cell_type": "code",
   "execution_count": 5,
   "metadata": {},
   "outputs": [
    {
     "name": "stderr",
     "output_type": "stream",
     "text": [
      "WARNING: Logging before flag parsing goes to stderr.\n",
      "W0805 09:26:10.333996 139966231627584 deprecation.py:323] From /home/jovyan/.local/lib/python3.6/site-packages/tensorflow/python/ops/math_grad.py:1205: add_dispatch_support.<locals>.wrapper (from tensorflow.python.ops.array_ops) is deprecated and will be removed in a future version.\n",
      "Instructions for updating:\n",
      "Use tf.where in 2.0, which has the same broadcast rule as np.where\n"
     ]
    }
   ],
   "source": [
    "bert_module = hub.Module(BERT_PATH,\n",
    "                         trainable=True,\n",
    "                         name=\"bert_module\")\n",
    "\n",
    "fwd_prop = bert_module(bert_inputs, signature=\"tokens\", as_dict=True)[\"pooled_output\"]\n",
    "fwd_prop = tf.nn.xw_plus_b(fwd_prop,\n",
    "                           tf.ones(shape=(H_SIZE,1), dtype=tf.float32, name=\"fake_weights\"),\n",
    "                           tf.ones(shape=(1), dtype=tf.float32, name=\"fake_bias\"),\n",
    "                           name=\"matmul_final\")\n",
    "\n",
    "cost = tf.reduce_mean(tf.nn.softmax_cross_entropy_with_logits_v2(logits=fwd_prop, labels=fake_labels))\n",
    "optimizer = tf.train.AdamOptimizer().minimize(cost)"
   ]
  },
  {
   "cell_type": "code",
   "execution_count": 6,
   "metadata": {},
   "outputs": [],
   "source": [
    "sess.run(tf.local_variables_initializer())\n",
    "sess.run(tf.global_variables_initializer())\n",
    "sess.run(tf.tables_initializer())\n",
    "\n",
    "run_options = tf.RunOptions(trace_level=tf.RunOptions.FULL_TRACE)\n",
    "run_meta = tf.RunMetadata()"
   ]
  },
  {
   "cell_type": "code",
   "execution_count": 7,
   "metadata": {},
   "outputs": [],
   "source": [
    "# run forward+backward pass\n",
    "\n",
    "_, _ = sess.run([optimizer, cost], options=run_options, run_metadata=run_meta)"
   ]
  },
  {
   "cell_type": "code",
   "execution_count": 8,
   "metadata": {},
   "outputs": [
    {
     "name": "stderr",
     "output_type": "stream",
     "text": [
      "W0805 09:26:25.837385 139966231627584 deprecation.py:323] From /home/jovyan/.local/lib/python3.6/site-packages/tensorflow/python/profiler/internal/flops_registry.py:142: tensor_shape_from_node_def_name (from tensorflow.python.framework.graph_util_impl) is deprecated and will be removed in a future version.\n",
      "Instructions for updating:\n",
      "Use `tf.compat.v1.graph_util.tensor_shape_from_node_def_name`\n"
     ]
    },
    {
     "name": "stdout",
     "output_type": "stream",
     "text": [
      "Model FLOPS: 263000524411 == 263.001 GFLOPS\n"
     ]
    }
   ],
   "source": [
    "# get FLOPS\n",
    "\n",
    "opts = tf.profiler.ProfileOptionBuilder.float_operation()    \n",
    "flops = tf.profiler.profile(sess.graph, run_meta=run_meta, cmd=\"op\", options=opts)\n",
    "total_flops = flops.total_float_ops\n",
    "\n",
    "print(\"Model FLOPS:\", total_flops, \"==\", round(total_flops/1e9,3), \"GFLOPS\")"
   ]
  },
  {
   "cell_type": "code",
   "execution_count": null,
   "metadata": {},
   "outputs": [],
   "source": []
  }
 ],
 "metadata": {
  "kernelspec": {
   "display_name": "Python 3",
   "language": "python",
   "name": "python3"
  },
  "language_info": {
   "codemirror_mode": {
    "name": "ipython",
    "version": 3
   },
   "file_extension": ".py",
   "mimetype": "text/x-python",
   "name": "python",
   "nbconvert_exporter": "python",
   "pygments_lexer": "ipython3",
   "version": "3.6.7"
  }
 },
 "nbformat": 4,
 "nbformat_minor": 4
}
