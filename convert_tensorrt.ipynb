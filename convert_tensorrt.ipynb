{
 "cells": [
  {
   "cell_type": "code",
   "execution_count": 1,
   "metadata": {},
   "outputs": [],
   "source": [
    "import os\n",
    "import time\n",
    "from tqdm import tqdm\n",
    "import numpy as np\n",
    "from sklearn.metrics import classification_report\n",
    "import tensorflow.compat.v1 as tf\n",
    "import utils\n",
    "import bert_utils"
   ]
  },
  {
   "cell_type": "code",
   "execution_count": 2,
   "metadata": {},
   "outputs": [],
   "source": [
    "BERTLARGE     = False\n",
    "MAX_SEQ_LEN   = 128\n",
    "LEARNING_RATE = 1e-5\n",
    "TUNE_LAYERS   = -1"
   ]
  },
  {
   "cell_type": "code",
   "execution_count": 3,
   "metadata": {},
   "outputs": [],
   "source": [
    "if BERTLARGE:\n",
    "    BERT_PATH = \"https://tfhub.dev/google/bert_uncased_L-24_H-1024_A-16/1\"\n",
    "    H_SIZE = 1024\n",
    "else:\n",
    "    BERT_PATH = \"https://tfhub.dev/google/bert_uncased_L-12_H-768_A-12/1\"\n",
    "    H_SIZE = 768"
   ]
  },
  {
   "cell_type": "code",
   "execution_count": 4,
   "metadata": {},
   "outputs": [
    {
     "name": "stderr",
     "output_type": "stream",
     "text": [
      "Converting examples to features:   2%|▏         | 124/7600 [00:00<00:06, 1232.90it/s]"
     ]
    },
    {
     "name": "stdout",
     "output_type": "stream",
     "text": [
      "Loaded test set from: /home/jovyan/.keras/datasets/ag_news\n",
      "Examples: 7600 Classes: 4\n"
     ]
    },
    {
     "name": "stderr",
     "output_type": "stream",
     "text": [
      "Converting examples to features: 100%|██████████| 7600/7600 [00:06<00:00, 1247.04it/s]\n"
     ]
    }
   ],
   "source": [
    "tokenizer = bert_utils.create_tokenizer_from_hub_module(BERT_PATH, tf.Session())\n",
    "\n",
    "examples, labels, num_classes = utils.load_ag_news_dataset(max_seq_len=MAX_SEQ_LEN,\n",
    "                                                           test=True)\n",
    "labels = np.asarray(labels)\n",
    "test_examples = bert_utils.convert_text_to_examples(examples, labels)\n",
    "feat = bert_utils.convert_examples_to_features(tokenizer,\n",
    "                                               test_examples,\n",
    "                                               max_seq_length=MAX_SEQ_LEN,\n",
    "                                               verbose=True)\n",
    "\n",
    "(test_input_ids, test_input_masks, test_segment_ids, test_labels) = feat"
   ]
  },
  {
   "cell_type": "code",
   "execution_count": 5,
   "metadata": {},
   "outputs": [],
   "source": [
    "def reshape_list(input_list, output_shape):\n",
    "    output = []\n",
    "    for item in input_list:\n",
    "        output.append(item.reshape(output_shape))\n",
    "    return output"
   ]
  },
  {
   "cell_type": "code",
   "execution_count": 6,
   "metadata": {},
   "outputs": [
    {
     "name": "stderr",
     "output_type": "stream",
     "text": [
      "100%|██████████| 7600/7600 [01:48<00:00, 70.30it/s]\n"
     ]
    }
   ],
   "source": [
    "import tensorflow as tf\n",
    "from tensorflow.python.compiler.tensorrt import trt_convert as trt\n",
    "\n",
    "config = tf.ConfigProto()\n",
    "config.graph_options.optimizer_options.global_jit_level = tf.OptimizerOptions.ON_1\n",
    "\n",
    "trt_session = tf.Session(config=config)\n",
    "\n",
    "with trt_session as sess:\n",
    "    with tf.gfile.GFile(\"frozen_model.pb\", \"rb\") as f:\n",
    "        frozen_graph = tf.GraphDef()\n",
    "        frozen_graph.ParseFromString(f.read())\n",
    "    converter = trt.TrtGraphConverter(input_graph_def=frozen_graph,\n",
    "                                      nodes_blacklist=[\"dense/Softmax\"],\n",
    "                                      session_config=config,\n",
    "                                      precision_mode=trt.TrtPrecisionMode.FP16,\n",
    "                                      maximum_cached_engines=100,\n",
    "                                      is_dynamic_op=False)\n",
    "    trt_graph = converter.convert()\n",
    "    \n",
    "    output_node = tf.import_graph_def(trt_graph,\n",
    "                                      return_elements=[\"dense/Softmax:0\"])\n",
    "    \n",
    "    input_shape = [1,MAX_SEQ_LEN]\n",
    "    \n",
    "    token_placeholder = tf.placeholder(tf.int32,shape=input_shape)\n",
    "    mask_placeholder = tf.placeholder(tf.int32,shape=input_shape)\n",
    "    segment_placeholder = tf.placeholder(tf.int32,shape=input_shape)\n",
    "    \n",
    "    test_input_ids = reshape_list(test_input_ids, input_shape)\n",
    "    test_input_masks = reshape_list(test_input_masks, input_shape)\n",
    "    test_segment_ids = reshape_list(test_segment_ids, input_shape)\n",
    "    \n",
    "    # warm-up inference engine\n",
    "    \n",
    "    for i in range(10):\n",
    "        output = sess.run([output_node], feed_dict={'import/input_ids:0': test_input_ids[i],\n",
    "                                                    'import/input_masks:0': test_input_masks[i],\n",
    "                                                    'import/segment_ids:0': test_segment_ids[i]})\n",
    "    \n",
    "    # actual benchmark\n",
    "    \n",
    "    num_examples = len(test_labels)\n",
    "    \n",
    "    start_time = time.time()\n",
    "    \n",
    "    preds = []\n",
    "    \n",
    "    for i in tqdm(range(num_examples)):\n",
    "        output = sess.run([output_node], feed_dict={'import/input_ids:0': test_input_ids[i],'import/input_masks:0': test_input_masks[i],'import/segment_ids:0': test_segment_ids[i]})\n",
    "        preds.append(output)\n",
    "        \n",
    "    end_time = time.time()"
   ]
  },
  {
   "cell_type": "code",
   "execution_count": 7,
   "metadata": {},
   "outputs": [
    {
     "name": "stdout",
     "output_type": "stream",
     "text": [
      "Duration: 108.11\n",
      "Examples/second: 70.3\n"
     ]
    }
   ],
   "source": [
    "duration = end_time - start_time\n",
    "print(\"Duration:\", round(duration, 2))\n",
    "print(\"Examples/second:\", round(len(test_labels)/duration, 2))"
   ]
  },
  {
   "cell_type": "code",
   "execution_count": 8,
   "metadata": {},
   "outputs": [],
   "source": [
    "class_preds = []\n",
    "for pred in preds:\n",
    "    class_label = np.argmax(pred[0][0][0])\n",
    "    class_preds.append(class_label)"
   ]
  },
  {
   "cell_type": "code",
   "execution_count": 9,
   "metadata": {},
   "outputs": [],
   "source": [
    "y_true = np.asarray(test_labels).flatten().tolist()"
   ]
  },
  {
   "cell_type": "code",
   "execution_count": 10,
   "metadata": {},
   "outputs": [
    {
     "name": "stdout",
     "output_type": "stream",
     "text": [
      "              precision    recall  f1-score   support\n",
      "\n",
      "           0       0.97      0.93      0.95      1900\n",
      "           1       0.98      0.99      0.99      1900\n",
      "           2       0.92      0.90      0.91      1900\n",
      "           3       0.89      0.94      0.91      1900\n",
      "\n",
      "   micro avg       0.94      0.94      0.94      7600\n",
      "   macro avg       0.94      0.94      0.94      7600\n",
      "weighted avg       0.94      0.94      0.94      7600\n",
      "\n"
     ]
    }
   ],
   "source": [
    "print(classification_report(y_true, class_preds))"
   ]
  },
  {
   "cell_type": "code",
   "execution_count": null,
   "metadata": {},
   "outputs": [],
   "source": []
  }
 ],
 "metadata": {
  "kernelspec": {
   "display_name": "Python 3",
   "language": "python",
   "name": "python3"
  },
  "language_info": {
   "codemirror_mode": {
    "name": "ipython",
    "version": 3
   },
   "file_extension": ".py",
   "mimetype": "text/x-python",
   "name": "python",
   "nbconvert_exporter": "python",
   "pygments_lexer": "ipython3",
   "version": "3.6.7"
  }
 },
 "nbformat": 4,
 "nbformat_minor": 4
}
