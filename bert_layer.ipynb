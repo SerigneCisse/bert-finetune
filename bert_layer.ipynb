{
 "cells": [
  {
   "cell_type": "markdown",
   "metadata": {},
   "source": [
    "# Custom BERT Keras Layer\n",
    "\n",
    "A simple example to demonstrate how to create a Keras model which includes BERT as a layer."
   ]
  },
  {
   "cell_type": "code",
   "execution_count": 1,
   "metadata": {},
   "outputs": [],
   "source": [
    "# GPU selection\n",
    "import os\n",
    "os.environ[\"CUDA_DEVICE_ORDER\"] = \"PCI_BUS_ID\"\n",
    "os.environ[\"CUDA_VISIBLE_DEVICES\"] = \"0\""
   ]
  },
  {
   "cell_type": "code",
   "execution_count": 2,
   "metadata": {},
   "outputs": [],
   "source": [
    "import tensorflow.compat.v1 as tf\n",
    "from tensorflow.compat.v1.keras import layers\n",
    "\n",
    "import bert_utils"
   ]
  },
  {
   "cell_type": "markdown",
   "metadata": {},
   "source": [
    "### Model Parameters"
   ]
  },
  {
   "cell_type": "code",
   "execution_count": 3,
   "metadata": {},
   "outputs": [],
   "source": [
    "BERTLARGE   = False\n",
    "MAX_SEQ_LEN = 512\n",
    "\n",
    "if BERTLARGE:\n",
    "    # TFHub module for BERTLARGE (330M)\n",
    "    BERT_PATH = \"https://tfhub.dev/google/bert_uncased_L-24_H-1024_A-16/1\"\n",
    "    H_SIZE    = 1024\n",
    "else:\n",
    "    # TFHub module for BERTBASE (110M)\n",
    "    BERT_PATH = \"https://tfhub.dev/google/bert_uncased_L-12_H-768_A-12/1\"\n",
    "    H_SIZE    = 768"
   ]
  },
  {
   "cell_type": "code",
   "execution_count": 4,
   "metadata": {},
   "outputs": [],
   "source": [
    "config = tf.ConfigProto()\n",
    "# allow us to instrument the GPU VRAM usage\n",
    "config.gpu_options.allow_growth = True\n",
    "sess = tf.Session(config=config)\n",
    "tf.keras.backend.set_session(sess)"
   ]
  },
  {
   "cell_type": "markdown",
   "metadata": {},
   "source": [
    "## Creating the Model"
   ]
  },
  {
   "cell_type": "markdown",
   "metadata": {},
   "source": [
    "### Model Inputs\n",
    "\n",
    "We have three seperate inputs:\n",
    "\n",
    "* `in_token`: Sequence of id of tokens (WordPiece)\n",
    "* `in_mask`: Sequence of `0`/`1` indicating mask\n",
    "* `in_segment`: Sequence of `0`/`1` indicating which segment the tokens belong to (for multi-sentence input)"
   ]
  },
  {
   "cell_type": "code",
   "execution_count": 5,
   "metadata": {},
   "outputs": [],
   "source": [
    "in_token = layers.Input(shape=(MAX_SEQ_LEN,), name=\"input_tokens\")\n",
    "in_mask = layers.Input(shape=(MAX_SEQ_LEN,), name=\"input_masks\")\n",
    "in_segment = layers.Input(shape=(MAX_SEQ_LEN,), name=\"segment_ids\")"
   ]
  },
  {
   "cell_type": "code",
   "execution_count": 6,
   "metadata": {},
   "outputs": [],
   "source": [
    "in_bert = [in_token, in_mask, in_segment]"
   ]
  },
  {
   "cell_type": "markdown",
   "metadata": {},
   "source": [
    "### BERT Layer\n",
    "\n",
    "To build the BERT layer, we specify:\n",
    "\n",
    "* `fine_tune_layers`: how many Transformer blocks to fine-tune\n",
    "* `bert_path`: URL of TFHub module\n",
    "* `return_sequence`: Return sequence of representations (one per token) or just for the `[CLS]` token\n",
    "* `output_size`: Size of output representation (768 for `BERTBASE`, 1024 for `BERTLARGE`)\n",
    "* `debug`: Print debug output (including list of trainable variables)"
   ]
  },
  {
   "cell_type": "code",
   "execution_count": 7,
   "metadata": {},
   "outputs": [
    {
     "name": "stdout",
     "output_type": "stream",
     "text": [
      "Input: (1, 512)\n",
      "BERT Output (?, 768)\n"
     ]
    }
   ],
   "source": [
    "bert_layer = bert_utils.BERT(fine_tune_layers=-1,\n",
    "                             bert_path=BERT_PATH,\n",
    "                             return_sequence=False,\n",
    "                             output_size=H_SIZE,\n",
    "                             debug=False)\n",
    "l_bert = bert_layer(in_bert)\n",
    "bert_output_shape = bert_layer.compute_output_shape((1,MAX_SEQ_LEN))\n",
    "l_bert = layers.Reshape(bert_output_shape)(l_bert)\n",
    "\n",
    "print(\"BERT Output\", l_bert.shape)"
   ]
  },
  {
   "cell_type": "code",
   "execution_count": 8,
   "metadata": {},
   "outputs": [
    {
     "data": {
      "text/plain": [
       "(768,)"
      ]
     },
     "execution_count": 8,
     "metadata": {},
     "output_type": "execute_result"
    }
   ],
   "source": [
    "bert_output_shape"
   ]
  },
  {
   "cell_type": "markdown",
   "metadata": {},
   "source": [
    "### Build Keras Model"
   ]
  },
  {
   "cell_type": "code",
   "execution_count": 9,
   "metadata": {},
   "outputs": [
    {
     "name": "stderr",
     "output_type": "stream",
     "text": [
      "WARNING: Logging before flag parsing goes to stderr.\n",
      "W0804 16:43:55.254714 140587665684288 deprecation.py:506] From /home/jovyan/.local/lib/python3.6/site-packages/tensorflow/python/ops/init_ops.py:1251: calling VarianceScaling.__init__ (from tensorflow.python.ops.init_ops) with dtype is deprecated and will be removed in a future version.\n",
      "Instructions for updating:\n",
      "Call initializer instance with the dtype argument instead of passing it to the constructor\n"
     ]
    }
   ],
   "source": [
    "# classification (softmax) layer\n",
    "out_pred = layers.Dense(1, activation=\"softmax\")(l_bert)\n",
    "\n",
    "# build Keras model\n",
    "model = tf.keras.models.Model(inputs=in_bert, outputs=out_pred)"
   ]
  },
  {
   "cell_type": "markdown",
   "metadata": {},
   "source": [
    "### Model Information"
   ]
  },
  {
   "cell_type": "markdown",
   "metadata": {},
   "source": [
    "**Model Architecture**"
   ]
  },
  {
   "cell_type": "code",
   "execution_count": 10,
   "metadata": {},
   "outputs": [
    {
     "name": "stdout",
     "output_type": "stream",
     "text": [
      "Model: \"model\"\n",
      "__________________________________________________________________________________________________\n",
      "Layer (type)                    Output Shape         Param #     Connected to                     \n",
      "==================================================================================================\n",
      "input_tokens (InputLayer)       [(None, 512)]        0                                            \n",
      "__________________________________________________________________________________________________\n",
      "input_masks (InputLayer)        [(None, 512)]        0                                            \n",
      "__________________________________________________________________________________________________\n",
      "segment_ids (InputLayer)        [(None, 512)]        0                                            \n",
      "__________________________________________________________________________________________________\n",
      "bert (BERT)                     (None, 768)          110104890   input_tokens[0][0]               \n",
      "                                                                 input_masks[0][0]                \n",
      "                                                                 segment_ids[0][0]                \n",
      "__________________________________________________________________________________________________\n",
      "reshape (Reshape)               (None, 768)          0           bert[0][0]                       \n",
      "__________________________________________________________________________________________________\n",
      "dense (Dense)                   (None, 1)            769         reshape[0][0]                    \n",
      "==================================================================================================\n",
      "Total params: 110,105,659\n",
      "Trainable params: 109,483,009\n",
      "Non-trainable params: 622,650\n",
      "__________________________________________________________________________________________________\n"
     ]
    }
   ],
   "source": [
    "model.summary()"
   ]
  },
  {
   "cell_type": "code",
   "execution_count": 11,
   "metadata": {},
   "outputs": [
    {
     "data": {
      "image/png": "[encoded data removed]",
      "text/plain": [
       "<IPython.core.display.Image object>"
      ]
     },
     "execution_count": 11,
     "metadata": {},
     "output_type": "execute_result"
    }
   ],
   "source": [
    "tf.keras.utils.plot_model(model,\n",
    "                          show_shapes=True,\n",
    "                          show_layer_names=True,\n",
    "                          rankdir=\"LR\")"
   ]
  }
 ],
 "metadata": {
  "kernelspec": {
   "display_name": "Python 3",
   "language": "python",
   "name": "python3"
  },
  "language_info": {
   "codemirror_mode": {
    "name": "ipython",
    "version": 3
   },
   "file_extension": ".py",
   "mimetype": "text/x-python",
   "name": "python",
   "nbconvert_exporter": "python",
   "pygments_lexer": "ipython3",
   "version": "3.6.7"
  }
 },
 "nbformat": 4,
 "nbformat_minor": 4
}
